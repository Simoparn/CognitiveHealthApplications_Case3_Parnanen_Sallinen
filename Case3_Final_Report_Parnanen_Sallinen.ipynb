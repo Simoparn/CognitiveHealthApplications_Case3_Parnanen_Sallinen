{
 "cells": [
  {
   "cell_type": "markdown",
   "metadata": {},
   "source": [
    "# Case 3. Patient Drug Review\t17.3.2019\n",
    "##### Cognitive Systems for Health Technology Applications, Spring 2019\n",
    "##### Helsinki Metropolia University of Applied Sciences\n",
    "\n",
    "##### Pärnänen Simo, opiskelijanumero \t1606318\n",
    "##### Sallinen Pasi, opiskelijanumero \t1804767\n",
    "\n",
    "## The background and data preprocessing\n",
    "\n",
    "The Case 3 Patient Drug Review is the pair work to process text data with neural networks. (A).  We use recurrent and convolutional networks and try to “predict ratings associated to the text” (A). Our data source is the data collection from Drugs.com that has patient drug reviews.\n",
    "\n",
    "The key question is: “Can you predict the rating of the drug based on the review?” (A). It is called regression problem or if our models prediction is close to originals one? The key in regression analysis is whether one or many factors has some relation to key variable(s).(B). To solve the problem we can choose whether to use 3 or five categories:\n",
    "negative, neutral, positive highly negative, negative, neutral, positive, highly positive (A) We use five categories. It would be advisable to assign certain weights for different categories, because very high and very low ratings are quite overrepresented in the dataset.\n",
    "\n",
    "The KUC Hackathon Winter 2018 dataset is required for the solution that is already split to training and test sets. Pandas is used for reading and exploring the data. (A).\n",
    "\n",
    "There are 885 unique medical conditions specified in the dataset. The train set is 75 percent of the whole dataset, the test set is 25 percent.\n",
    "\n",
    "## The Model\n",
    "\n",
    "We first import: numpy, matplotlib.pyplot, pandas, os, shutil, time and normalize from sklearn.preprocessing. We import also from Keras layers (Embedding, Conv1D, Flatten GRU, Dense, LSTM), models, optimizers, regularizers, preprocessing.text (Tokenizer), preprocessing.sequence (pad_sequences) and utils (to_categorical).\n",
    "\n",
    "Then we define training network with time tracking and compile the data to modify it for better fitting for the network.\n",
    "The test network with time tracking is defined with settings below.\n",
    "We import the dataset that is extracted from Drugs.com and downloaded from www.kaggle.com with pandas.\n",
    "Then we check how how many unique medical conditions there are.\n",
    "Then we use padding for fitting the output and input."
   ]
  },
  {
   "cell_type": "code",
   "execution_count": 3,
   "metadata": {},
   "outputs": [
    {
     "name": "stdout",
     "output_type": "stream",
     "text": [
      "\n",
      "There are 885 unique conditions\n",
      "\n"
     ]
    },
    {
     "data": {
      "image/png": "[encoded data removed]",
      "text/plain": [
       "<Figure size 432x288 with 2 Axes>"
      ]
     },
     "metadata": {
      "needs_background": "light"
     },
     "output_type": "display_data"
    }
   ],
   "source": [
    "import numpy as np\n",
    "import matplotlib.pyplot as plt\n",
    "import pandas as pd\n",
    "import os, shutil\n",
    "import time\n",
    "from keras.layers import Embedding, Conv1D, Flatten, GRU, Dense, LSTM\n",
    "from keras import models\n",
    "from keras import optimizers\n",
    "from keras import regularizers\n",
    "from keras.preprocessing.text import Tokenizer\n",
    "from keras.preprocessing.sequence import pad_sequences\n",
    "from keras.utils import to_categorical\n",
    "from sklearn.preprocessing import normalize\n",
    "from sklearn.utils import class_weight\n",
    "\n",
    "#def trainnetwork(model, x_train, weights, stepsperepoch, validstepsperepoch, epochs):\n",
    "#\tprint('\\nStructure of the layers\\n')\n",
    "#\tmodel.summary()\n",
    "#\ttime_start=time.time()\n",
    "#\tmodel=model.fit(x_train, steps_per_epoch=stepsperepoch, epochs=epochs, #verbose=1, validation_data=validdata, #validation_steps=validstepsperepoch, #class_weight=weights, initial_epoch=0)\n",
    "\n",
    "#\tplt.plot(model.history['acc'])\n",
    "#\tplt.plot(model.history['val_acc'])\n",
    "#\tplt.title('Model accuracy')\n",
    "#\tplt.ylabel('Accuracy')\n",
    "#\tplt.xlabel('Epoch')\n",
    "#\tplt.legend(['Train', 'Test'], loc='upper left')\n",
    "#\tplt.show()\n",
    "\n",
    "#\ttime_end=time.time()\n",
    "#\tprint('Time taken: {:.2f} seconds'.format(time_end - time_start))\n",
    "\n",
    "data=pd.read_csv('drugsComTrain_raw.csv', sep=',')\n",
    "validdata=pd.read_csv('drugsComTest_raw.csv', sep=',')\n",
    "df=pd.DataFrame(data)\n",
    "dfvalid=pd.DataFrame(validdata)\n",
    "\n",
    "#HOW MANY UNIQUE MEDICAL CONDITIONS THERE ARE?\n",
    "print('\\nThere are '+str(df[\"condition\"].unique().size)+' unique conditions\\n')\n",
    "\n",
    "#RATINGS TO LABELS\n",
    "\n",
    "labels=[]\n",
    "r = df['rating']\n",
    "for rating in r:\n",
    "    if r[rating] <= 4:\n",
    "        if r[rating] > 2:\n",
    "            labels.append(0)\n",
    "        if r[rating] <= 2:\n",
    "            labels.append(0)\n",
    "    if r[rating] == 5 or r[rating] == 6:\n",
    "        labels.append(1)\n",
    "    if r[rating] >= 7:\n",
    "        if r[rating] < 9:\n",
    "            labels.append(2)\n",
    "        else:\n",
    "            labels.append(3)\n",
    "# ADD THE LABEL COLUMN TO DATA\n",
    "labels=pd.Series(labels)\n",
    "df['label'] = labels\n",
    "\n",
    "#HISTOGRAM OF LABELS\n",
    "df.hist(column=['rating','label'], bins=10, align='left');\n",
    "\n",
    "#REVIEWS TO PADDED SEQUENCES\n",
    "samples=df[\"review\"].iloc[:1000]\n",
    "tokenizer=Tokenizer(num_words=1000)\n",
    "tokenizer.fit_on_texts(samples)\n",
    "sequences=tokenizer.texts_to_sequences(samples)\n",
    "x_train=pad_sequences(sequences, maxlen = 400)"
   ]
  },
  {
   "cell_type": "markdown",
   "metadata": {},
   "source": [
    "## The Model (continue)\n",
    "Then labels are taken to one-hot categories.\n",
    "Then embedding is used to get words into geometrical space and flatten gets tensors to 2D. (C, 187).\n",
    "We give the weights given below and the model with the values given."
   ]
  },
  {
   "cell_type": "code",
   "execution_count": 5,
   "metadata": {},
   "outputs": [
    {
     "ename": "TypeError",
     "evalue": "unhashable type: 'numpy.ndarray'",
     "output_type": "error",
     "traceback": [
      "\u001b[1;31m---------------------------------------------------------------------------\u001b[0m",
      "\u001b[1;31mTypeError\u001b[0m                                 Traceback (most recent call last)",
      "\u001b[1;32m<ipython-input-5-89cd8b84f6a5>\u001b[0m in \u001b[0;36m<module>\u001b[1;34m\u001b[0m\n\u001b[0;32m      3\u001b[0m \u001b[1;33m\u001b[0m\u001b[0m\n\u001b[0;32m      4\u001b[0m \u001b[1;31m#WEIGHTS\u001b[0m\u001b[1;33m\u001b[0m\u001b[1;33m\u001b[0m\u001b[1;33m\u001b[0m\u001b[0m\n\u001b[1;32m----> 5\u001b[1;33m \u001b[0mweights\u001b[0m\u001b[1;33m=\u001b[0m\u001b[0mclass_weight\u001b[0m\u001b[1;33m.\u001b[0m\u001b[0mcompute_class_weight\u001b[0m\u001b[1;33m(\u001b[0m\u001b[1;34m'balanced'\u001b[0m\u001b[1;33m,\u001b[0m\u001b[0mnp\u001b[0m\u001b[1;33m.\u001b[0m\u001b[0munique\u001b[0m\u001b[1;33m(\u001b[0m\u001b[0mone_hot_labels\u001b[0m\u001b[1;33m)\u001b[0m\u001b[1;33m,\u001b[0m\u001b[0mnp\u001b[0m\u001b[1;33m.\u001b[0m\u001b[0masarray\u001b[0m\u001b[1;33m(\u001b[0m\u001b[0mone_hot_labels\u001b[0m\u001b[1;33m)\u001b[0m\u001b[1;33m)\u001b[0m\u001b[1;33m\u001b[0m\u001b[1;33m\u001b[0m\u001b[0m\n\u001b[0m\u001b[0;32m      6\u001b[0m \u001b[1;33m\u001b[0m\u001b[0m\n\u001b[0;32m      7\u001b[0m \u001b[1;31m#model = keras.models.Sequential()\u001b[0m\u001b[1;33m\u001b[0m\u001b[1;33m\u001b[0m\u001b[1;33m\u001b[0m\u001b[0m\n",
      "\u001b[1;32m~\\Anaconda3\\lib\\site-packages\\sklearn\\utils\\class_weight.py\u001b[0m in \u001b[0;36mcompute_class_weight\u001b[1;34m(class_weight, classes, y)\u001b[0m\n\u001b[0;32m     39\u001b[0m     \u001b[1;32mfrom\u001b[0m \u001b[1;33m.\u001b[0m\u001b[1;33m.\u001b[0m\u001b[0mpreprocessing\u001b[0m \u001b[1;32mimport\u001b[0m \u001b[0mLabelEncoder\u001b[0m\u001b[1;33m\u001b[0m\u001b[1;33m\u001b[0m\u001b[0m\n\u001b[0;32m     40\u001b[0m \u001b[1;33m\u001b[0m\u001b[0m\n\u001b[1;32m---> 41\u001b[1;33m     \u001b[1;32mif\u001b[0m \u001b[0mset\u001b[0m\u001b[1;33m(\u001b[0m\u001b[0my\u001b[0m\u001b[1;33m)\u001b[0m \u001b[1;33m-\u001b[0m \u001b[0mset\u001b[0m\u001b[1;33m(\u001b[0m\u001b[0mclasses\u001b[0m\u001b[1;33m)\u001b[0m\u001b[1;33m:\u001b[0m\u001b[1;33m\u001b[0m\u001b[1;33m\u001b[0m\u001b[0m\n\u001b[0m\u001b[0;32m     42\u001b[0m         raise ValueError(\"classes should include all valid labels that can \"\n\u001b[0;32m     43\u001b[0m                          \"be in y\")\n",
      "\u001b[1;31mTypeError\u001b[0m: unhashable type: 'numpy.ndarray'"
     ]
    }
   ],
   "source": [
    "#LABELS TO ONE-HOT CATEGORIES\n",
    "one_hot_labels=to_categorical(labels[:1000], num_classes=4)\n",
    "\n",
    "#WEIGHTS\n",
    "weights=class_weight.compute_class_weight('balanced',np.unique(one_hot_labels),np.asarray(one_hot_labels))\n",
    "\n",
    "#model = keras.models.Sequential()\n",
    "#model.add(layers.Embedding(10000, 128,\n",
    "#                       \tinput_length=1000,\n",
    "#                       \tname='embed'))\n",
    "#model.add(layers.Conv1D(32, 5, activation='relu'))\n",
    "#model.add(layers.MaxPooling1D(5))\n",
    "#model.add(layers.Conv1D(32, 5, activation='relu'))\n",
    "#model.add(layers.GlobalMaxPooling1D())\n",
    "#model.add(layers.Dense(1))\n",
    "#model.compile(optimizer='rmsprop',\n",
    "#          \tloss='categorical_crossentropy',\n",
    "#          \tmetrics=['acc'])\n",
    "\n",
    "#Trainnetwork(model, x_train, weights, stepsperepoch, validstepsperepoch, epoch)"
   ]
  },
  {
   "attachments": {
    "Case3_labeldoesntsetproperly.PNG": {
     "image/png": "[encoded data removed]"
    }
   },
   "cell_type": "markdown",
   "metadata": {},
   "source": [
    "## The Results\n",
    "We were not able to finish the network completely and the results focus on the picture shown here demonstrating our problem with labeling all the ratings. We used five categories defined at the Case instructions (A) aka labels on the picture: 0 highly negative, 1 negative, 2 neutral, 3 positive, 4 highly positive. Rating on the 1-10 scale is the same what is used at source document Gräßer et al.(D, 122). 1 is the most negative and 10 is the most positive \"overall rating\" of the drug. However, the labels did not set properly for the ratings 3 and 4. The rest of the ratings received proper labels though. However, calculating weights was impossible because no instances for one of the specified labels existed. We attempted to circumvent this by only assigning four labels (0-3) for the ratings 1-2 and 5-10, but this too produced an error complaining that the numpy.ndarray type was unhashable. We were unable to proceed beyond this point.\n",
    "![Case3_labeldoesntsetproperly.PNG](attachment:Case3_labeldoesntsetproperly.PNG)\n",
    "<i>Missing label with the first attempt</i>\n",
    "## The Conclusions\n",
    "We couldn't do any test runs, so little conclusions can be drawn. Assigning weights manually through a dictionary or forgetting about adding weights altogether could have sped the team's working pace.\n",
    "\n",
    "## Reference\n",
    "(A) Instructions for Case3 at course Cognitive Systems for Health Technology Applications TX00DG16-3002 (2019), Assignment - Case 3.pdf, course Cognitive Systems for Health Technology Applications TX00DG16-3002 at Metropolia University of Applied Science, https://oma.metropolia.fi. Ref. 13.3.2019.\n",
    "\n",
    "(B) KvantiMOTV, 2008, Regressioanalyysi, https://www.fsd.uta.fi/menetelmaopetus/regressio/analyysi.html. Ref. 13.3.2019\n",
    "\n",
    "(C) Chollet, Francois (2017, Version 6) Deep Learning with Python. Manning Publications.\n",
    "\n",
    "(D) Gräßer et al. (2018) Aspect-Based Sentiment Analysis of Drug Reviews Applying\n",
    "Cross-Domain and Cross-Data Learning. Institut für Biomedizinische Technik, Technische Universität Dresden.\n"
   ]
  },
  {
   "cell_type": "code",
   "execution_count": null,
   "metadata": {},
   "outputs": [],
   "source": []
  }
 ],
 "metadata": {
  "kernelspec": {
   "display_name": "Python 3",
   "language": "python",
   "name": "python3"
  },
  "language_info": {
   "codemirror_mode": {
    "name": "ipython",
    "version": 3
   },
   "file_extension": ".py",
   "mimetype": "text/x-python",
   "name": "python",
   "nbconvert_exporter": "python",
   "pygments_lexer": "ipython3",
   "version": "3.6.8"
  }
 },
 "nbformat": 4,
 "nbformat_minor": 2
}
